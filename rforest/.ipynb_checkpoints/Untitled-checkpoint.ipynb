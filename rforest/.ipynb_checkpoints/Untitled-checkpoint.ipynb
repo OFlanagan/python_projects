{
 "cells": [
  {
   "cell_type": "markdown",
   "metadata": {},
   "source": [
    "This notebook is for prototyping the rforest algorithm"
   ]
  },
  {
   "cell_type": "code",
   "execution_count": 8,
   "metadata": {},
   "outputs": [],
   "source": [
    "import numpy as np"
   ]
  },
  {
   "cell_type": "code",
   "execution_count": 11,
   "metadata": {},
   "outputs": [
    {
     "name": "stdout",
     "output_type": "stream",
     "text": [
      "[[b'\"\"' b'\"mpg\"' b'\"cyl\"' b'\"disp\"' b'\"hp\"' b'\"drat\"' b'\"wt\"' b'\"qsec\"'\n",
      "  b'\"vs\"' b'\"am\"' b'\"gear\"' b'\"carb\"']\n",
      " [b'\"Mazda RX4\"' b'21' b'6' b'160' b'110' b'3.9' b'2.62' b'16.46' b'0'\n",
      "  b'1' b'4' b'4']\n",
      " [b'\"Mazda RX4 Wag\"' b'21' b'6' b'160' b'110' b'3.9' b'2.875' b'17.02'\n",
      "  b'0' b'1' b'4' b'4']\n",
      " [b'\"Datsun 710\"' b'22.8' b'4' b'108' b'93' b'3.85' b'2.32' b'18.61' b'1'\n",
      "  b'1' b'4' b'1']\n",
      " [b'\"Hornet 4 Drive\"' b'21.4' b'6' b'258' b'110' b'3.08' b'3.215'\n",
      "  b'19.44' b'1' b'0' b'3' b'1']\n",
      " [b'\"Hornet Sportabout\"' b'18.7' b'8' b'360' b'175' b'3.15' b'3.44'\n",
      "  b'17.02' b'0' b'0' b'3' b'2']\n",
      " [b'\"Valiant\"' b'18.1' b'6' b'225' b'105' b'2.76' b'3.46' b'20.22' b'1'\n",
      "  b'0' b'3' b'1']\n",
      " [b'\"Duster 360\"' b'14.3' b'8' b'360' b'245' b'3.21' b'3.57' b'15.84'\n",
      "  b'0' b'0' b'3' b'4']\n",
      " [b'\"Merc 240D\"' b'24.4' b'4' b'146.7' b'62' b'3.69' b'3.19' b'20' b'1'\n",
      "  b'0' b'4' b'2']\n",
      " [b'\"Merc 230\"' b'22.8' b'4' b'140.8' b'95' b'3.92' b'3.15' b'22.9' b'1'\n",
      "  b'0' b'4' b'2']\n",
      " [b'\"Merc 280\"' b'19.2' b'6' b'167.6' b'123' b'3.92' b'3.44' b'18.3' b'1'\n",
      "  b'0' b'4' b'4']\n",
      " [b'\"Merc 280C\"' b'17.8' b'6' b'167.6' b'123' b'3.92' b'3.44' b'18.9'\n",
      "  b'1' b'0' b'4' b'4']\n",
      " [b'\"Merc 450SE\"' b'16.4' b'8' b'275.8' b'180' b'3.07' b'4.07' b'17.4'\n",
      "  b'0' b'0' b'3' b'3']\n",
      " [b'\"Merc 450SL\"' b'17.3' b'8' b'275.8' b'180' b'3.07' b'3.73' b'17.6'\n",
      "  b'0' b'0' b'3' b'3']\n",
      " [b'\"Merc 450SLC\"' b'15.2' b'8' b'275.8' b'180' b'3.07' b'3.78' b'18'\n",
      "  b'0' b'0' b'3' b'3']\n",
      " [b'\"Cadillac Fleetwood\"' b'10.4' b'8' b'472' b'205' b'2.93' b'5.25'\n",
      "  b'17.98' b'0' b'0' b'3' b'4']\n",
      " [b'\"Lincoln Continental\"' b'10.4' b'8' b'460' b'215' b'3' b'5.424'\n",
      "  b'17.82' b'0' b'0' b'3' b'4']\n",
      " [b'\"Chrysler Imperial\"' b'14.7' b'8' b'440' b'230' b'3.23' b'5.345'\n",
      "  b'17.42' b'0' b'0' b'3' b'4']\n",
      " [b'\"Fiat 128\"' b'32.4' b'4' b'78.7' b'66' b'4.08' b'2.2' b'19.47' b'1'\n",
      "  b'1' b'4' b'1']\n",
      " [b'\"Honda Civic\"' b'30.4' b'4' b'75.7' b'52' b'4.93' b'1.615' b'18.52'\n",
      "  b'1' b'1' b'4' b'2']\n",
      " [b'\"Toyota Corolla\"' b'33.9' b'4' b'71.1' b'65' b'4.22' b'1.835' b'19.9'\n",
      "  b'1' b'1' b'4' b'1']\n",
      " [b'\"Toyota Corona\"' b'21.5' b'4' b'120.1' b'97' b'3.7' b'2.465' b'20.01'\n",
      "  b'1' b'0' b'3' b'1']\n",
      " [b'\"Dodge Challenger\"' b'15.5' b'8' b'318' b'150' b'2.76' b'3.52'\n",
      "  b'16.87' b'0' b'0' b'3' b'2']\n",
      " [b'\"AMC Javelin\"' b'15.2' b'8' b'304' b'150' b'3.15' b'3.435' b'17.3'\n",
      "  b'0' b'0' b'3' b'2']\n",
      " [b'\"Camaro Z28\"' b'13.3' b'8' b'350' b'245' b'3.73' b'3.84' b'15.41'\n",
      "  b'0' b'0' b'3' b'4']\n",
      " [b'\"Pontiac Firebird\"' b'19.2' b'8' b'400' b'175' b'3.08' b'3.845'\n",
      "  b'17.05' b'0' b'0' b'3' b'2']\n",
      " [b'\"Fiat X1-9\"' b'27.3' b'4' b'79' b'66' b'4.08' b'1.935' b'18.9' b'1'\n",
      "  b'1' b'4' b'1']\n",
      " [b'\"Porsche 914-2\"' b'26' b'4' b'120.3' b'91' b'4.43' b'2.14' b'16.7'\n",
      "  b'0' b'1' b'5' b'2']\n",
      " [b'\"Lotus Europa\"' b'30.4' b'4' b'95.1' b'113' b'3.77' b'1.513' b'16.9'\n",
      "  b'1' b'1' b'5' b'2']\n",
      " [b'\"Ford Pantera L\"' b'15.8' b'8' b'351' b'264' b'4.22' b'3.17' b'14.5'\n",
      "  b'0' b'1' b'5' b'4']\n",
      " [b'\"Ferrari Dino\"' b'19.7' b'6' b'145' b'175' b'3.62' b'2.77' b'15.5'\n",
      "  b'0' b'1' b'5' b'6']\n",
      " [b'\"Maserati Bora\"' b'15' b'8' b'301' b'335' b'3.54' b'3.57' b'14.6'\n",
      "  b'0' b'1' b'5' b'8']\n",
      " [b'\"Volvo 142E\"' b'21.4' b'4' b'121' b'109' b'4.11' b'2.78' b'18.6' b'1'\n",
      "  b'1' b'4' b'2']]\n"
     ]
    },
    {
     "name": "stderr",
     "output_type": "stream",
     "text": [
      "/home/owen/anaconda3/lib/python3.7/site-packages/ipykernel_launcher.py:9: VisibleDeprecationWarning: Reading unicode strings without specifying the encoding argument is deprecated. Set the encoding, use None for the system default.\n",
      "  if __name__ == '__main__':\n"
     ]
    }
   ],
   "source": [
    "class decision_tree:\n",
    "    \n",
    "    def __init__(self, X, y):\n",
    "        self.X = X\n",
    "        self.y = y\n",
    "    \n",
    "    def loss_function(self):\n",
    "        \n",
    "    \n",
    "    def train_classifier(self):\n",
    "        \"\"\"train a decision tree for classification using gini coefficient\"\"\"\n",
    "        \n",
    "        "
   ]
  },
  {
   "cell_type": "markdown",
   "metadata": {},
   "source": [
    "We will need:\n",
    " - bagging - should implement as a set of indices to pull from data array\n",
    " - random col selection - should implement as a set of col indices to pull from data array\n",
    " - decision tree grower - need one for classification and one for regression\n",
    " - importance calculator - need one for classification and one for regression\n",
    "\n"
   ]
  },
  {
   "cell_type": "code",
   "execution_count": null,
   "metadata": {},
   "outputs": [],
   "source": []
  }
 ],
 "metadata": {
  "kernelspec": {
   "display_name": "Python 3",
   "language": "python",
   "name": "python3"
  },
  "language_info": {
   "codemirror_mode": {
    "name": "ipython",
    "version": 3
   },
   "file_extension": ".py",
   "mimetype": "text/x-python",
   "name": "python",
   "nbconvert_exporter": "python",
   "pygments_lexer": "ipython3",
   "version": "3.7.1"
  }
 },
 "nbformat": 4,
 "nbformat_minor": 2
}
