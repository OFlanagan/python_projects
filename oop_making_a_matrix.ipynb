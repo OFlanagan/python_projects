{
 "cells": [
  {
   "cell_type": "markdown",
   "metadata": {},
   "source": [
    "# A simple OOP matrix implementation\n",
    "This is a simple implementation of a matrix datatype and some simple matrix operations in order to practice OOP"
   ]
  },
  {
   "cell_type": "code",
   "execution_count": null,
   "metadata": {},
   "outputs": [],
   "source": [
    "# parse into a column\n",
    "test_input1 = [1,2,3,4,5,6,7,8,9] \n",
    "# parse into a matrix with the three sub lists the rows\n",
    "test_input2 = [[1,2,3],[4,5,6],[7,8,9]]\n",
    "#reject as data is wrong shape\n",
    "test_input3 = [[[1,2],[3,4]],[[5,6],[7,8]]]\n",
    "#reject as rows of inconsistent length\n",
    "test_input4 = [[1,2,3],[4,5],[7,8,9]]"
   ]
  },
  {
   "cell_type": "code",
   "execution_count": 2,
   "metadata": {},
   "outputs": [],
   "source": [
    "class Matrix:\n",
    "    \"\"\"\n",
    "    This class creates a simple matrix as an experiment in oop\n",
    "    \"\"\"\n",
    "    def __init__(self, input_object):\n",
    "        \"\"\"\n",
    "        Initialise the matrix from a list - can be a nested listed up to two deep\n",
    "        \"\"\"\n",
    "        pass\n",
    "    \n",
    "    def print_dims(self):\n",
    "        \"\"\"\n",
    "        print the dimensions of the matrix\n",
    "        \"\"\"\n",
    "        pass\n",
    "    \n",
    "    def select_column(self):\n",
    "        \"\"\"\n",
    "        select a single column by index and return as a list\n",
    "        \"\"\"\n",
    "        pass\n",
    "    \n",
    "    def select_row(self):\n",
    "        \"\"\"\n",
    "        select a single row by index and return as a list\n",
    "        \"\"\"\n",
    "        pass\n",
    "    \n",
    "    def select_element(self):\n",
    "        \"\"\"\n",
    "        select a single element of the matrix and return as a list\n",
    "        \"\"\"\n",
    "        pass"
   ]
  },
  {
   "cell_type": "code",
   "execution_count": null,
   "metadata": {},
   "outputs": [],
   "source": []
  },
  {
   "cell_type": "code",
   "execution_count": null,
   "metadata": {},
   "outputs": [],
   "source": []
  },
  {
   "cell_type": "code",
   "execution_count": null,
   "metadata": {},
   "outputs": [],
   "source": []
  }
 ],
 "metadata": {
  "kernelspec": {
   "display_name": "Python 3",
   "language": "python",
   "name": "python3"
  },
  "language_info": {
   "codemirror_mode": {
    "name": "ipython",
    "version": 3
   },
   "file_extension": ".py",
   "mimetype": "text/x-python",
   "name": "python",
   "nbconvert_exporter": "python",
   "pygments_lexer": "ipython3",
   "version": "3.7.1"
  }
 },
 "nbformat": 4,
 "nbformat_minor": 2
}
